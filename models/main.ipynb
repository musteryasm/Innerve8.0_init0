{
 "cells": [
  {
   "cell_type": "code",
   "execution_count": 1,
   "metadata": {},
   "outputs": [],
   "source": [
    "import pandas as pd"
   ]
  },
  {
   "cell_type": "code",
   "execution_count": 4,
   "metadata": {},
   "outputs": [],
   "source": [
    "data = pd.read_csv(\"./cic-ids.csv\")"
   ]
  },
  {
   "cell_type": "code",
   "execution_count": 5,
   "metadata": {},
   "outputs": [
    {
     "name": "stdout",
     "output_type": "stream",
     "text": [
      "<class 'pandas.core.frame.DataFrame'>\n",
      "RangeIndex: 4529990 entries, 0 to 4529989\n",
      "Data columns (total 37 columns):\n",
      " #   Column             Dtype  \n",
      "---  ------             -----  \n",
      " 0   Dst Port           int64  \n",
      " 1   Protocol           int64  \n",
      " 2   Bwd Pkt Len Min    int64  \n",
      " 3   Flow Byts/s        float64\n",
      " 4   Fwd IAT Tot        int64  \n",
      " 5   Fwd IAT Mean       float64\n",
      " 6   Fwd IAT Min        int64  \n",
      " 7   Bwd IAT Tot        int64  \n",
      " 8   Bwd IAT Std        float64\n",
      " 9   Bwd IAT Max        int64  \n",
      " 10  Bwd IAT Min        int64  \n",
      " 11  Fwd PSH Flags      int64  \n",
      " 12  Fwd URG Flags      int64  \n",
      " 13  Fwd Pkts/s         float64\n",
      " 14  Bwd Pkts/s         float64\n",
      " 15  Pkt Len Min        int64  \n",
      " 16  Pkt Len Std        float64\n",
      " 17  Pkt Len Var        float64\n",
      " 18  FIN Flag Cnt       int64  \n",
      " 19  PSH Flag Cnt       int64  \n",
      " 20  ACK Flag Cnt       int64  \n",
      " 21  URG Flag Cnt       int64  \n",
      " 22  ECE Flag Cnt       int64  \n",
      " 23  Down/Up Ratio      int64  \n",
      " 24  Fwd Seg Size Avg   float64\n",
      " 25  Bwd Seg Size Avg   float64\n",
      " 26  Subflow Bwd Byts   int64  \n",
      " 27  Init Fwd Win Byts  int64  \n",
      " 28  Init Bwd Win Byts  int64  \n",
      " 29  Fwd Act Data Pkts  int64  \n",
      " 30  Fwd Seg Size Min   int64  \n",
      " 31  Active Std         float64\n",
      " 32  Active Max         int64  \n",
      " 33  Active Min         int64  \n",
      " 34  Idle Std           float64\n",
      " 35  Idle Min           int64  \n",
      " 36  Label              int64  \n",
      "dtypes: float64(11), int64(26)\n",
      "memory usage: 1.2 GB\n"
     ]
    }
   ],
   "source": [
    "data.info()"
   ]
  },
  {
   "cell_type": "code",
   "execution_count": 9,
   "metadata": {},
   "outputs": [],
   "source": [
    "feature_list = data.columns.values.tolist()"
   ]
  },
  {
   "cell_type": "code",
   "execution_count": 10,
   "metadata": {},
   "outputs": [
    {
     "data": {
      "text/plain": [
       "['Dst Port',\n",
       " 'Protocol',\n",
       " 'Bwd Pkt Len Min',\n",
       " 'Flow Byts/s',\n",
       " 'Fwd IAT Tot',\n",
       " 'Fwd IAT Mean',\n",
       " 'Fwd IAT Min',\n",
       " 'Bwd IAT Tot',\n",
       " 'Bwd IAT Std',\n",
       " 'Bwd IAT Max',\n",
       " 'Bwd IAT Min',\n",
       " 'Fwd PSH Flags',\n",
       " 'Fwd URG Flags',\n",
       " 'Fwd Pkts/s',\n",
       " 'Bwd Pkts/s',\n",
       " 'Pkt Len Min',\n",
       " 'Pkt Len Std',\n",
       " 'Pkt Len Var',\n",
       " 'FIN Flag Cnt',\n",
       " 'PSH Flag Cnt',\n",
       " 'ACK Flag Cnt',\n",
       " 'URG Flag Cnt',\n",
       " 'ECE Flag Cnt',\n",
       " 'Down/Up Ratio',\n",
       " 'Fwd Seg Size Avg',\n",
       " 'Bwd Seg Size Avg',\n",
       " 'Subflow Bwd Byts',\n",
       " 'Init Fwd Win Byts',\n",
       " 'Init Bwd Win Byts',\n",
       " 'Fwd Act Data Pkts',\n",
       " 'Fwd Seg Size Min',\n",
       " 'Active Std',\n",
       " 'Active Max',\n",
       " 'Active Min',\n",
       " 'Idle Std',\n",
       " 'Idle Min',\n",
       " 'Label']"
      ]
     },
     "execution_count": 10,
     "metadata": {},
     "output_type": "execute_result"
    }
   ],
   "source": [
    "feature_list"
   ]
  },
  {
   "cell_type": "code",
   "execution_count": 11,
   "metadata": {},
   "outputs": [],
   "source": [
    "x = data.drop(['Label'] , axis = 1).values\n",
    "y = data['Label'].values"
   ]
  },
  {
   "cell_type": "code",
   "execution_count": 12,
   "metadata": {},
   "outputs": [],
   "source": [
    "import numpy as np\n",
    "import seaborn as sns\n",
    "import matplotlib.pyplot as plt\n",
    "from sklearn.preprocessing import LabelEncoder\n",
    "from sklearn.preprocessing import MinMaxScaler\n",
    "from sklearn.model_selection import cross_val_score\n",
    "from sklearn.ensemble import RandomForestClassifier\n",
    "from sklearn.linear_model import LogisticRegression\n",
    "from sklearn.tree import DecisionTreeClassifier\n",
    "from sklearn.model_selection import train_test_split\n",
    "from sklearn.metrics import mean_absolute_error,r2_score,mean_squared_error, accuracy_score\n",
    "from sklearn.metrics import classification_report, confusion_matrix, ConfusionMatrixDisplay\n",
    "from sklearn.preprocessing import RobustScaler\n",
    "from tensorflow.keras.layers import Dense, SimpleRNN\n",
    "from tensorflow.keras.models import Sequential\n",
    "from sklearn import metrics\n",
    "import warnings\n",
    "warnings.filterwarnings('ignore')"
   ]
  },
  {
   "cell_type": "code",
   "execution_count": 13,
   "metadata": {},
   "outputs": [],
   "source": [
    "# scaling the dataset.\n",
    "ro_scaler = RobustScaler()\n",
    "x_scaled = ro_scaler.fit_transform(x)\n"
   ]
  },
  {
   "cell_type": "code",
   "execution_count": 14,
   "metadata": {},
   "outputs": [],
   "source": [
    "\n",
    "scaler = MinMaxScaler()\n",
    "x_scaled = scaler.fit_transform(x_scaled)"
   ]
  },
  {
   "cell_type": "code",
   "execution_count": 15,
   "metadata": {},
   "outputs": [],
   "source": [
    "x_train , x_test , y_train , y_test = train_test_split(x_scaled, y, test_size= 0.2 , random_state=42)"
   ]
  },
  {
   "cell_type": "code",
   "execution_count": 16,
   "metadata": {},
   "outputs": [
    {
     "data": {
      "text/plain": [
       "((3623992, 36), (905998, 36))"
      ]
     },
     "execution_count": 16,
     "metadata": {},
     "output_type": "execute_result"
    }
   ],
   "source": [
    "x_train.shape, x_test.shape"
   ]
  },
  {
   "cell_type": "code",
   "execution_count": 17,
   "metadata": {},
   "outputs": [],
   "source": [
    "def cross_val(x_train, y_train, model):\n",
    "    accuracies = cross_val_score(estimator = model, X = x_train, y = y_train, cv=5)\n",
    "    return accuracies.mean()\n",
    "\n",
    "def fit_and_evaluate(model, x_train , x_test , y_train , y_test):\n",
    "    model.fit(x_train, y_train)\n",
    "\n",
    "    model_pred = model.predict(x_test)\n",
    "    model_cross = cross_val(x_train, y_train, model)\n",
    "    \n",
    "    return model_cross\n",
    "\n",
    "def run_experiment(model, x_train , x_test , y_train , y_test):\n",
    "    model.fit(x_train, y_train)\n",
    "    y_pred = model.predict(x_test)\n",
    "    print(\"R^2 : \", r2_score(y_test, y_pred))\n",
    "    print(\"MAE :\", mean_absolute_error(y_test,y_pred))\n",
    "    print(\"RMSE:\",np.sqrt(mean_squared_error(y_test, y_pred)))\n",
    "    report=classification_report(y_test,y_pred)\n",
    "    print(report)"
   ]
  },
  {
   "cell_type": "markdown",
   "metadata": {},
   "source": [
    "LOGISTIC REGRESSION"
   ]
  },
  {
   "cell_type": "code",
   "execution_count": 18,
   "metadata": {},
   "outputs": [],
   "source": [
    "x_traincpy = np.copy(x_train)\n",
    "y_traincpy = np.copy(y_train)\n",
    "x_testcpy = np.copy(x_test)\n",
    "y_testcpy = np.copy(y_test)"
   ]
  },
  {
   "cell_type": "code",
   "execution_count": 19,
   "metadata": {},
   "outputs": [
    {
     "name": "stdout",
     "output_type": "stream",
     "text": [
      "Logistic Regression Performance on the test set: Cross Validation Score = 0.9280\n"
     ]
    }
   ],
   "source": [
    "\n",
    "logr = LogisticRegression()\n",
    "logr_cross = fit_and_evaluate(logr, x_traincpy , x_testcpy , y_traincpy , y_testcpy)\n",
    "\n",
    "print('Logistic Regression Performance on the test set: Cross Validation Score = %0.4f' % logr_cross)\n"
   ]
  },
  {
   "cell_type": "code",
   "execution_count": 20,
   "metadata": {},
   "outputs": [
    {
     "name": "stdout",
     "output_type": "stream",
     "text": [
      "R^2 :  0.7045597535343582\n",
      "MAE : 0.07385998644588619\n",
      "RMSE: 0.27177193829732715\n",
      "              precision    recall  f1-score   support\n",
      "\n",
      "           0       0.94      0.91      0.93    453456\n",
      "           1       0.91      0.94      0.93    452542\n",
      "\n",
      "    accuracy                           0.93    905998\n",
      "   macro avg       0.93      0.93      0.93    905998\n",
      "weighted avg       0.93      0.93      0.93    905998\n",
      "\n"
     ]
    }
   ],
   "source": [
    "model = LogisticRegression()\n",
    "run_experiment(model, x_traincpy , x_testcpy , y_traincpy , y_testcpy)"
   ]
  },
  {
   "cell_type": "code",
   "execution_count": 21,
   "metadata": {},
   "outputs": [
    {
     "data": {
      "image/png": "[encoded data removed]",
      "text/plain": [
       "<Figure size 640x480 with 2 Axes>"
      ]
     },
     "metadata": {},
     "output_type": "display_data"
    },
    {
     "name": "stdout",
     "output_type": "stream",
     "text": [
      "Accuracy:  0.9261400135541138\n"
     ]
    }
   ],
   "source": [
    "y_pred = model.predict(x_testcpy)\n",
    "cm = confusion_matrix(y_testcpy, y_pred, labels=model.classes_)\n",
    "disp = ConfusionMatrixDisplay(confusion_matrix=cm, display_labels=model.classes_)\n",
    "disp.plot()\n",
    "plt.show()\n",
    "print(\"Accuracy: \", accuracy_score(y_testcpy, y_pred))"
   ]
  },
  {
   "cell_type": "markdown",
   "metadata": {},
   "source": [
    "RANDOM FOREST"
   ]
  },
  {
   "cell_type": "code",
   "execution_count": 22,
   "metadata": {},
   "outputs": [],
   "source": [
    "x_traincpy = np.copy(x_train)\n",
    "y_traincpy = np.copy(y_train)\n",
    "x_testcpy = np.copy(x_test)\n",
    "y_testcpy = np.copy(y_test)"
   ]
  },
  {
   "cell_type": "code",
   "execution_count": 23,
   "metadata": {},
   "outputs": [
    {
     "name": "stdout",
     "output_type": "stream",
     "text": [
      "Random Forest Performance on the test set: Cross Validation Score = 0.9671\n"
     ]
    }
   ],
   "source": [
    "\n",
    "\n",
    "random = RandomForestClassifier(n_estimators = 10, criterion = 'entropy')\n",
    "random_cross = fit_and_evaluate(random, x_traincpy , x_testcpy , y_traincpy , y_testcpy)\n",
    "\n",
    "print('Random Forest Performance on the test set: Cross Validation Score = %0.4f' % random_cross)"
   ]
  },
  {
   "cell_type": "code",
   "execution_count": 24,
   "metadata": {},
   "outputs": [
    {
     "name": "stdout",
     "output_type": "stream",
     "text": [
      "Accuracy:  0.9670242097664675\n"
     ]
    }
   ],
   "source": [
    "y_pred = random.predict(x_testcpy)\n",
    "print(\"Accuracy: \", accuracy_score(y_testcpy, y_pred))"
   ]
  },
  {
   "cell_type": "code",
   "execution_count": 25,
   "metadata": {},
   "outputs": [
    {
     "data": {
      "image/png": "[encoded data removed]",
      "text/plain": [
       "<Figure size 640x480 with 2 Axes>"
      ]
     },
     "metadata": {},
     "output_type": "display_data"
    }
   ],
   "source": [
    "cm = confusion_matrix(y_testcpy, y_pred, labels=random.classes_)\n",
    "disp = ConfusionMatrixDisplay(confusion_matrix=cm, display_labels=random.classes_)\n",
    "disp.plot()\n",
    "plt.show()"
   ]
  },
  {
   "cell_type": "markdown",
   "metadata": {},
   "source": []
  },
  {
   "cell_type": "code",
   "execution_count": 26,
   "metadata": {},
   "outputs": [],
   "source": [
    "x_train_srnn = np.copy(x_train)\n",
    "x_test_srnn = np.copy(x_test)\n",
    "y_train_srnn = np.copy(y_train)\n",
    "y_test_srnn = np.copy(y_test)"
   ]
  },
  {
   "cell_type": "code",
   "execution_count": 27,
   "metadata": {},
   "outputs": [],
   "source": [
    "model = Sequential()\n",
    "model.add(SimpleRNN(units=64, input_shape=(x_train_srnn.shape[1], 1), return_sequences=True))\n",
    "model.add(SimpleRNN(units=64, return_sequences=True))\n",
    "model.add(SimpleRNN(units=64, return_sequences=False))\n",
    "model.add(Dense(units=1, activation='sigmoid'))"
   ]
  },
  {
   "cell_type": "code",
   "execution_count": 28,
   "metadata": {},
   "outputs": [
    {
     "name": "stdout",
     "output_type": "stream",
     "text": [
      "Model: \"sequential\"\n",
      "_________________________________________________________________\n",
      " Layer (type)                Output Shape              Param #   \n",
      "=================================================================\n",
      " simple_rnn (SimpleRNN)      (None, 36, 64)            4224      \n",
      "                                                                 \n",
      " simple_rnn_1 (SimpleRNN)    (None, 36, 64)            8256      \n",
      "                                                                 \n",
      " simple_rnn_2 (SimpleRNN)    (None, 64)                8256      \n",
      "                                                                 \n",
      " dense (Dense)               (None, 1)                 65        \n",
      "                                                                 \n",
      "=================================================================\n",
      "Total params: 20801 (81.25 KB)\n",
      "Trainable params: 20801 (81.25 KB)\n",
      "Non-trainable params: 0 (0.00 Byte)\n",
      "_________________________________________________________________\n"
     ]
    }
   ],
   "source": [
    "model.summary()"
   ]
  },
  {
   "cell_type": "code",
   "execution_count": 29,
   "metadata": {},
   "outputs": [],
   "source": [
    "model.compile(optimizer='adam', loss='binary_crossentropy', metrics=['accuracy'])"
   ]
  },
  {
   "cell_type": "code",
   "execution_count": 32,
   "metadata": {},
   "outputs": [
    {
     "name": "stdout",
     "output_type": "stream",
     "text": [
      "Epoch 1/3\n",
      "28313/28313 [==============================] - 2862s 101ms/step - loss: 0.1799 - accuracy: 0.9405 - val_loss: 0.1607 - val_accuracy: 0.9500\n",
      "Epoch 2/3\n",
      "28313/28313 [==============================] - 2943s 104ms/step - loss: 0.2058 - accuracy: 0.9267 - val_loss: 0.2398 - val_accuracy: 0.9133\n",
      "Epoch 3/3\n",
      "28313/28313 [==============================] - 3703s 131ms/step - loss: 0.2264 - accuracy: 0.9185 - val_loss: 0.1718 - val_accuracy: 0.9501\n"
     ]
    },
    {
     "data": {
      "text/plain": [
       "<matplotlib.legend.Legend at 0x1b43dda2350>"
      ]
     },
     "execution_count": 32,
     "metadata": {},
     "output_type": "execute_result"
    },
    {
     "data": {
      "image/png": "[encoded data removed]",
      "text/plain": [
       "<Figure size 640x480 with 1 Axes>"
      ]
     },
     "metadata": {},
     "output_type": "display_data"
    }
   ],
   "source": [
    "history = model.fit(x_train_srnn.reshape((x_train_srnn.shape[0], x_train_srnn.shape[1], 1)), y_train_srnn, epochs=3, batch_size=128,\n",
    "                    validation_data=(x_test_srnn.reshape((x_test_srnn.shape[0], x_test_srnn.shape[1], 1)), y_test_srnn))\n",
    "import matplotlib.pyplot as plt\n",
    "plt.plot(history.history['loss'], label='Train')\n",
    "plt.plot(history.history['val_loss'], label='Validation')\n",
    "plt.ylabel('Binary Cross Entropy Loss')\n",
    "plt.xlabel('Epoch')\n",
    "plt.title('Autoencoder Reconstruction Loss', pad=13)\n",
    "plt.legend(loc='upper right')"
   ]
  },
  {
   "cell_type": "code",
   "execution_count": 33,
   "metadata": {},
   "outputs": [
    {
     "name": "stdout",
     "output_type": "stream",
     "text": [
      "28313/28313 [==============================] - 299s 11ms/step\n",
      "Accuracy: 0.9501378590239714\n"
     ]
    }
   ],
   "source": [
    "srnn_y_pred = model.predict(x_test_srnn.reshape((x_test_srnn.shape[0], x_test_srnn.shape[1], 1)))\n",
    "srnn_y_pred = (srnn_y_pred > 0.5)\n",
    "print(\"Accuracy:\", accuracy_score(y_test_srnn, srnn_y_pred))"
   ]
  },
  {
   "cell_type": "code",
   "execution_count": 52,
   "metadata": {},
   "outputs": [],
   "source": [
    "x_test_srnn_reshaped = x_test.reshape((x_test.shape[0], x_test.shape[1], 1))"
   ]
  },
  {
   "cell_type": "code",
   "execution_count": 54,
   "metadata": {},
   "outputs": [
    {
     "name": "stdout",
     "output_type": "stream",
     "text": [
      "28313/28313 [==============================] - 290s 10ms/step\n"
     ]
    }
   ],
   "source": [
    "srnn_pred = model.predict(x_test_srnn_reshaped)[:, 0]  # Since it's a binary classification, consider only the first column (probability of class 1)"
   ]
  },
  {
   "cell_type": "code",
   "execution_count": 1,
   "metadata": {},
   "outputs": [
    {
     "ename": "NameError",
     "evalue": "name 'logr' is not defined",
     "output_type": "error",
     "traceback": [
      "\u001b[1;31m---------------------------------------------------------------------------\u001b[0m",
      "\u001b[1;31mNameError\u001b[0m                                 Traceback (most recent call last)",
      "Cell \u001b[1;32mIn[1], line 1\u001b[0m\n\u001b[1;32m----> 1\u001b[0m logr_pred \u001b[38;5;241m=\u001b[39m \u001b[43mlogr\u001b[49m\u001b[38;5;241m.\u001b[39mpredict_proba(x_test)[:, \u001b[38;5;241m0\u001b[39m]  \u001b[38;5;66;03m# Predict probabilities for class 1\u001b[39;00m\n\u001b[0;32m      2\u001b[0m random_pred \u001b[38;5;241m=\u001b[39m random\u001b[38;5;241m.\u001b[39mpredict_proba(x_test)[:, \u001b[38;5;241m0\u001b[39m]\n",
      "\u001b[1;31mNameError\u001b[0m: name 'logr' is not defined"
     ]
    }
   ],
   "source": [
    "logr_pred = logr.predict_proba(x_test)[:, 0]  # Predict probabilities for class 1\n",
    "random_pred = random.predict_proba(x_test)[:, 0]"
   ]
  },
  {
   "cell_type": "code",
   "execution_count": 74,
   "metadata": {},
   "outputs": [],
   "source": [
    "# Define weights for each model\n",
    "weights = [0, 0, 0]  # Adjust weights as per your preference"
   ]
  },
  {
   "cell_type": "code",
   "execution_count": 75,
   "metadata": {},
   "outputs": [
    {
     "name": "stdout",
     "output_type": "stream",
     "text": [
      "Ensemble Model Accuracy: 0.5005044161245389\n"
     ]
    }
   ],
   "source": [
    "\n",
    "\n",
    "\n",
    "\n",
    "# Calculate weighted mean of the predictions\n",
    "ensemble_pred = (logr_pred * weights[0]) + (random_pred * weights[1]) + (srnn_pred * weights[2])\n",
    "\n",
    "# Threshold the ensemble predictions\n",
    "threshold = 0  # Adjust threshold as per your preference\n",
    "ensemble_pred_binary = np.where(ensemble_pred > threshold, 1, 0)\n",
    "\n",
    "# Calculate accuracy of the ensemble model\n",
    "ensemble_accuracy = accuracy_score(y_test, ensemble_pred_binary)\n",
    "print(\"Ensemble Model Accuracy:\", ensemble_accuracy)\n"
   ]
  },
  {
   "cell_type": "code",
   "execution_count": null,
   "metadata": {},
   "outputs": [],
   "source": []
  },
  {
   "cell_type": "code",
   "execution_count": 68,
   "metadata": {},
   "outputs": [
    {
     "name": "stdout",
     "output_type": "stream",
     "text": [
      "y_test:\n",
      "Unique values: [0 1]\n",
      "Shape: (905998,)\n",
      "Data type: int64\n"
     ]
    }
   ],
   "source": [
    "print(\"y_test:\")\n",
    "print(\"Unique values:\", np.unique(y_test))\n",
    "print(\"Shape:\", y_test.shape)\n",
    "print(\"Data type:\", y_test.dtype)\n"
   ]
  },
  {
   "cell_type": "code",
   "execution_count": null,
   "metadata": {},
   "outputs": [],
   "source": []
  }
 ],
 "metadata": {
  "kernelspec": {
   "display_name": "Python 3",
   "language": "python",
   "name": "python3"
  },
  "language_info": {
   "codemirror_mode": {
    "name": "ipython",
    "version": 3
   },
   "file_extension": ".py",
   "mimetype": "text/x-python",
   "name": "python",
   "nbconvert_exporter": "python",
   "pygments_lexer": "ipython3",
   "version": "3.11.3"
  }
 },
 "nbformat": 4,
 "nbformat_minor": 2
}
